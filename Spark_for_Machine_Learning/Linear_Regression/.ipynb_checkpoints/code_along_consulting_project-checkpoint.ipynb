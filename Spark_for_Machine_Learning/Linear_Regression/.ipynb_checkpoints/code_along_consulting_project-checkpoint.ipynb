{
 "cells": [
  {
   "cell_type": "code",
   "execution_count": 1,
   "metadata": {},
   "outputs": [],
   "source": [
    "from pyspark.sql import SparkSession"
   ]
  },
  {
   "cell_type": "code",
   "execution_count": 2,
   "metadata": {},
   "outputs": [],
   "source": [
    "spark = SparkSession.builder.appName('consult_ship').getOrCreate()"
   ]
  },
  {
   "cell_type": "markdown",
   "metadata": {},
   "source": [
    "## Import cruise ship data"
   ]
  },
  {
   "cell_type": "code",
   "execution_count": 3,
   "metadata": {},
   "outputs": [],
   "source": [
    "ship_info = spark.read.csv('cruise_ship_info.csv',inferSchema=True,header=True)"
   ]
  },
  {
   "cell_type": "code",
   "execution_count": 4,
   "metadata": {},
   "outputs": [
    {
     "data": {
      "text/plain": [
       "158"
      ]
     },
     "execution_count": 4,
     "metadata": {},
     "output_type": "execute_result"
    }
   ],
   "source": [
    "ship_info.count()"
   ]
  },
  {
   "cell_type": "code",
   "execution_count": 5,
   "metadata": {},
   "outputs": [
    {
     "name": "stdout",
     "output_type": "stream",
     "text": [
      "+-----------+-----------+---+------------------+----------+------+------+-----------------+----+\n",
      "|  Ship_name|Cruise_line|Age|           Tonnage|passengers|length|cabins|passenger_density|crew|\n",
      "+-----------+-----------+---+------------------+----------+------+------+-----------------+----+\n",
      "|    Journey|    Azamara|  6|30.276999999999997|      6.94|  5.94|  3.55|            42.64|3.55|\n",
      "|      Quest|    Azamara|  6|30.276999999999997|      6.94|  5.94|  3.55|            42.64|3.55|\n",
      "|Celebration|   Carnival| 26|            47.262|     14.86|  7.22|  7.43|             31.8| 6.7|\n",
      "|   Conquest|   Carnival| 11|             110.0|     29.74|  9.53| 14.88|            36.99|19.1|\n",
      "|    Destiny|   Carnival| 17|           101.353|     26.42|  8.92| 13.21|            38.36|10.0|\n",
      "+-----------+-----------+---+------------------+----------+------+------+-----------------+----+\n",
      "only showing top 5 rows\n",
      "\n"
     ]
    }
   ],
   "source": [
    "ship_info.show(5)"
   ]
  },
  {
   "cell_type": "markdown",
   "metadata": {},
   "source": [
    "## Create data set with necessary features"
   ]
  },
  {
   "cell_type": "code",
   "execution_count": 6,
   "metadata": {},
   "outputs": [],
   "source": [
    "from pyspark.ml.feature import StringIndexer\n",
    "\n",
    "indexer = StringIndexer(inputCol='Cruise_line',outputCol='CruiseLineInd')\n",
    "ship_info_CruiseLineInd = indexer.fit(ship_info).transform(ship_info)"
   ]
  },
  {
   "cell_type": "code",
   "execution_count": 7,
   "metadata": {},
   "outputs": [
    {
     "name": "stdout",
     "output_type": "stream",
     "text": [
      "+-----------+-----------+---+------------------+----------+------+------+-----------------+----+-------------+\n",
      "|  Ship_name|Cruise_line|Age|           Tonnage|passengers|length|cabins|passenger_density|crew|CruiseLineInd|\n",
      "+-----------+-----------+---+------------------+----------+------+------+-----------------+----+-------------+\n",
      "|    Journey|    Azamara|  6|30.276999999999997|      6.94|  5.94|  3.55|            42.64|3.55|         16.0|\n",
      "|      Quest|    Azamara|  6|30.276999999999997|      6.94|  5.94|  3.55|            42.64|3.55|         16.0|\n",
      "|Celebration|   Carnival| 26|            47.262|     14.86|  7.22|  7.43|             31.8| 6.7|          1.0|\n",
      "|   Conquest|   Carnival| 11|             110.0|     29.74|  9.53| 14.88|            36.99|19.1|          1.0|\n",
      "|    Destiny|   Carnival| 17|           101.353|     26.42|  8.92| 13.21|            38.36|10.0|          1.0|\n",
      "+-----------+-----------+---+------------------+----------+------+------+-----------------+----+-------------+\n",
      "only showing top 5 rows\n",
      "\n"
     ]
    }
   ],
   "source": [
    "ship_info_CruiseLineInd.show(5)"
   ]
  },
  {
   "cell_type": "code",
   "execution_count": 8,
   "metadata": {},
   "outputs": [
    {
     "data": {
      "text/plain": [
       "20"
      ]
     },
     "execution_count": 8,
     "metadata": {},
     "output_type": "execute_result"
    }
   ],
   "source": [
    "ship_info.select('Cruise_line').distinct().count()"
   ]
  },
  {
   "cell_type": "markdown",
   "metadata": {},
   "source": [
    "## Group necessary features into single column "
   ]
  },
  {
   "cell_type": "code",
   "execution_count": 9,
   "metadata": {},
   "outputs": [],
   "source": [
    "from pyspark.ml.feature import VectorAssembler\n",
    "\n",
    "cols = ['CruiseLineInd','Age','Tonnage','passengers','length','cabins','passenger_density']\n",
    "assembler = VectorAssembler(inputCols=cols,outputCol='features')"
   ]
  },
  {
   "cell_type": "code",
   "execution_count": 10,
   "metadata": {},
   "outputs": [],
   "source": [
    "data = assembler.transform(ship_info_CruiseLineInd)\n",
    "data = data.select('crew','features')"
   ]
  },
  {
   "cell_type": "code",
   "execution_count": 11,
   "metadata": {},
   "outputs": [
    {
     "name": "stdout",
     "output_type": "stream",
     "text": [
      "+----+--------------------+\n",
      "|crew|            features|\n",
      "+----+--------------------+\n",
      "|3.55|[16.0,6.0,30.2769...|\n",
      "|3.55|[16.0,6.0,30.2769...|\n",
      "| 6.7|[1.0,26.0,47.262,...|\n",
      "|19.1|[1.0,11.0,110.0,2...|\n",
      "|10.0|[1.0,17.0,101.353...|\n",
      "+----+--------------------+\n",
      "only showing top 5 rows\n",
      "\n"
     ]
    }
   ],
   "source": [
    "data.show(5)"
   ]
  },
  {
   "cell_type": "markdown",
   "metadata": {},
   "source": [
    "## Split the data"
   ]
  },
  {
   "cell_type": "code",
   "execution_count": 14,
   "metadata": {},
   "outputs": [],
   "source": [
    "train_data, test_data = data.randomSplit([0.7, 0.3])"
   ]
  },
  {
   "cell_type": "markdown",
   "metadata": {},
   "source": [
    "## Build a model"
   ]
  },
  {
   "cell_type": "code",
   "execution_count": 13,
   "metadata": {},
   "outputs": [],
   "source": [
    "from pyspark.ml.regression import LinearRegression"
   ]
  },
  {
   "cell_type": "code",
   "execution_count": 15,
   "metadata": {},
   "outputs": [],
   "source": [
    "lr = LinearRegression(featuresCol='features',labelCol='crew')\n",
    "lr_model = lr.fit(train_data)"
   ]
  },
  {
   "cell_type": "code",
   "execution_count": 23,
   "metadata": {},
   "outputs": [
    {
     "name": "stdout",
     "output_type": "stream",
     "text": [
      "Train RMSE: 1.0145250239232344\n",
      "Train R2: 0.9246723625491197\n",
      "\n",
      "\n",
      "+----+--------------------+-------------------+\n",
      "|crew|            features|         prediction|\n",
      "+----+--------------------+-------------------+\n",
      "|0.59|[8.0,22.0,3.341,0...| 0.4843875118277927|\n",
      "|0.59|[8.0,22.0,3.341,0...|0.48848073876214637|\n",
      "| 0.6|[6.0,12.0,2.329,0...|  0.459919640469046|\n",
      "|0.88|[14.0,25.0,5.35,1...| 1.4365964070407093|\n",
      "|0.88|[14.0,27.0,5.35,1...| 1.3831875854900364|\n",
      "+----+--------------------+-------------------+\n",
      "only showing top 5 rows\n",
      "\n",
      "+-------+-----------------+------------------+\n",
      "|summary|             crew|        prediction|\n",
      "+-------+-----------------+------------------+\n",
      "|  count|              115|               115|\n",
      "|   mean|7.620608695652175| 7.620608695652179|\n",
      "| stddev|3.712633549362711|3.5700641790046306|\n",
      "|    min|             0.59| 0.459919640469046|\n",
      "|    max|             21.0|20.947382328835296|\n",
      "+-------+-----------------+------------------+\n",
      "\n"
     ]
    }
   ],
   "source": [
    "print('Train RMSE: {}'.format(lr_model.summary.rootMeanSquaredError))\n",
    "print('Train R2: {}'.format(lr_model.summary.r2))\n",
    "print('\\n')\n",
    "lr_model.summary.predictions.show(5)\n",
    "lr_model.summary.predictions.describe().show()"
   ]
  },
  {
   "cell_type": "markdown",
   "metadata": {},
   "source": [
    "## Evaluate the model"
   ]
  },
  {
   "cell_type": "code",
   "execution_count": 20,
   "metadata": {},
   "outputs": [],
   "source": [
    "test_results = lr_model.evaluate(test_data)"
   ]
  },
  {
   "cell_type": "code",
   "execution_count": 29,
   "metadata": {},
   "outputs": [
    {
     "name": "stdout",
     "output_type": "stream",
     "text": [
      "Test RMSE: 0.7815838419952341\n",
      "Test R2: 0.9234221866694585\n",
      "\n",
      "\n",
      "+----+--------------------+------------------+\n",
      "|crew|            features|        prediction|\n",
      "+----+--------------------+------------------+\n",
      "| 1.8|[14.0,23.0,14.745...|2.8336980559223157|\n",
      "| 2.1|[11.0,19.0,16.8,2...| 2.359252085704875|\n",
      "|2.95|[11.0,13.0,25.0,3...|3.1275739587109967|\n",
      "|3.73|[2.0,14.0,30.2769...|3.5529794388330656|\n",
      "|3.85|[5.0,23.0,25.0,7....| 3.874175365633352|\n",
      "+----+--------------------+------------------+\n",
      "only showing top 5 rows\n",
      "\n",
      "+-------+-----------------+------------------+\n",
      "|summary|             crew|        prediction|\n",
      "+-------+-----------------+------------------+\n",
      "|  count|               43|                43|\n",
      "|   mean|8.258372093023254| 8.485329564488934|\n",
      "| stddev| 2.85781212537923|2.8345490577329913|\n",
      "|    min|              1.8| 2.359252085704875|\n",
      "|    max|             13.6|13.999458906457592|\n",
      "+-------+-----------------+------------------+\n",
      "\n"
     ]
    }
   ],
   "source": [
    "print('Test RMSE: {}'.format(test_results.rootMeanSquaredError))\n",
    "print('Test R2: {}'.format(test_results.r2))\n",
    "print('\\n')\n",
    "test_results.predictions.show(5)\n",
    "test_results.predictions.describe().show()"
   ]
  },
  {
   "cell_type": "markdown",
   "metadata": {},
   "source": [
    "## Note: train_data and test_data split did not reserve data stratification"
   ]
  },
  {
   "cell_type": "markdown",
   "metadata": {},
   "source": [
    "## The model is ready to operate on unlabeled data!"
   ]
  }
 ],
 "metadata": {
  "kernelspec": {
   "display_name": "Python 3",
   "language": "python",
   "name": "python3"
  },
  "language_info": {
   "codemirror_mode": {
    "name": "ipython",
    "version": 3
   },
   "file_extension": ".py",
   "mimetype": "text/x-python",
   "name": "python",
   "nbconvert_exporter": "python",
   "pygments_lexer": "ipython3",
   "version": "3.5.2"
  }
 },
 "nbformat": 4,
 "nbformat_minor": 2
}
