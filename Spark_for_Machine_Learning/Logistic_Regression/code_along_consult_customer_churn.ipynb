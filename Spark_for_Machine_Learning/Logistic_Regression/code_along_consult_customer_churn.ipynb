{
 "cells": [
  {
   "cell_type": "code",
   "execution_count": 1,
   "metadata": {},
   "outputs": [],
   "source": [
    "from pyspark.sql import SparkSession\n",
    "spark = SparkSession.builder.appName(\"customer_churn\").getOrCreate()"
   ]
  },
  {
   "cell_type": "markdown",
   "metadata": {},
   "source": [
    "## Import data"
   ]
  },
  {
   "cell_type": "code",
   "execution_count": 69,
   "metadata": {},
   "outputs": [],
   "source": [
    "data = spark.read.csv(\"customer_churn.csv\",inferSchema=True,header=True)"
   ]
  },
  {
   "cell_type": "code",
   "execution_count": 70,
   "metadata": {},
   "outputs": [
    {
     "name": "stdout",
     "output_type": "stream",
     "text": [
      "root\n",
      " |-- Names: string (nullable = true)\n",
      " |-- Age: double (nullable = true)\n",
      " |-- Total_Purchase: double (nullable = true)\n",
      " |-- Account_Manager: integer (nullable = true)\n",
      " |-- Years: double (nullable = true)\n",
      " |-- Num_Sites: double (nullable = true)\n",
      " |-- Onboard_date: timestamp (nullable = true)\n",
      " |-- Location: string (nullable = true)\n",
      " |-- Company: string (nullable = true)\n",
      " |-- Churn: integer (nullable = true)\n",
      "\n",
      "+----------------+----+--------------+---------------+-----+---------+-------------------+--------------------+--------------------+-----+\n",
      "|           Names| Age|Total_Purchase|Account_Manager|Years|Num_Sites|       Onboard_date|            Location|             Company|Churn|\n",
      "+----------------+----+--------------+---------------+-----+---------+-------------------+--------------------+--------------------+-----+\n",
      "|Cameron Williams|42.0|       11066.8|              0| 7.22|      8.0|2013-08-30 07:00:40|10265 Elizabeth M...|          Harvey LLC|    1|\n",
      "|   Kevin Mueller|41.0|      11916.22|              0|  6.5|     11.0|2013-08-13 00:38:46|6157 Frank Garden...|          Wilson PLC|    1|\n",
      "|     Eric Lozano|38.0|      12884.75|              0| 6.67|     12.0|2016-06-29 06:20:07|1331 Keith Court ...|Miller, Johnson a...|    1|\n",
      "|   Phillip White|42.0|       8010.76|              0| 6.71|     10.0|2014-04-22 12:43:12|13120 Daniel Moun...|           Smith Inc|    1|\n",
      "|  Cynthia Norton|37.0|       9191.58|              0| 5.56|      9.0|2016-01-19 15:31:15|765 Tricia Row Ka...|          Love-Jones|    1|\n",
      "+----------------+----+--------------+---------------+-----+---------+-------------------+--------------------+--------------------+-----+\n",
      "only showing top 5 rows\n",
      "\n"
     ]
    }
   ],
   "source": [
    "data.printSchema()\n",
    "data.show(5)"
   ]
  },
  {
   "cell_type": "markdown",
   "metadata": {},
   "source": [
    "## Add a column 'days_since_Onboard' until now"
   ]
  },
  {
   "cell_type": "code",
   "execution_count": 72,
   "metadata": {},
   "outputs": [
    {
     "name": "stdout",
     "output_type": "stream",
     "text": [
      "root\n",
      " |-- Names: string (nullable = true)\n",
      " |-- Age: double (nullable = true)\n",
      " |-- Total_Purchase: double (nullable = true)\n",
      " |-- Account_Manager: integer (nullable = true)\n",
      " |-- Years: double (nullable = true)\n",
      " |-- Num_Sites: double (nullable = true)\n",
      " |-- Onboard_date: timestamp (nullable = true)\n",
      " |-- Location: string (nullable = true)\n",
      " |-- Company: string (nullable = true)\n",
      " |-- Churn: integer (nullable = true)\n",
      " |-- days_since_Onboard: integer (nullable = true)\n",
      "\n",
      "+----------------+----+--------------+---------------+-----+---------+-------------------+--------------------+--------------------+-----+------------------+\n",
      "|           Names| Age|Total_Purchase|Account_Manager|Years|Num_Sites|       Onboard_date|            Location|             Company|Churn|days_since_Onboard|\n",
      "+----------------+----+--------------+---------------+-----+---------+-------------------+--------------------+--------------------+-----+------------------+\n",
      "|Cameron Williams|42.0|       11066.8|              0| 7.22|      8.0|2013-08-30 07:00:40|10265 Elizabeth M...|          Harvey LLC|    1|              1553|\n",
      "|   Kevin Mueller|41.0|      11916.22|              0|  6.5|     11.0|2013-08-13 00:38:46|6157 Frank Garden...|          Wilson PLC|    1|              1570|\n",
      "|     Eric Lozano|38.0|      12884.75|              0| 6.67|     12.0|2016-06-29 06:20:07|1331 Keith Court ...|Miller, Johnson a...|    1|               519|\n",
      "|   Phillip White|42.0|       8010.76|              0| 6.71|     10.0|2014-04-22 12:43:12|13120 Daniel Moun...|           Smith Inc|    1|              1318|\n",
      "|  Cynthia Norton|37.0|       9191.58|              0| 5.56|      9.0|2016-01-19 15:31:15|765 Tricia Row Ka...|          Love-Jones|    1|               681|\n",
      "+----------------+----+--------------+---------------+-----+---------+-------------------+--------------------+--------------------+-----+------------------+\n",
      "only showing top 5 rows\n",
      "\n"
     ]
    }
   ],
   "source": [
    "# add a column 'days_since_Onboard' until now\n",
    "\n",
    "from pyspark.sql.functions import datediff, current_date\n",
    "data = data.withColumn(\"days_since_Onboard\",\n",
    "                       datediff(current_date(),data['Onboard_date']).alias(\"days_since_Onboard\"))\n",
    "\n",
    "data.printSchema()\n",
    "data.show(5)"
   ]
  },
  {
   "cell_type": "markdown",
   "metadata": {},
   "source": [
    "## Select only columns with numeric data types"
   ]
  },
  {
   "cell_type": "code",
   "execution_count": 73,
   "metadata": {},
   "outputs": [],
   "source": [
    "cols = []\n",
    "for dataPoint in data.dtypes:\n",
    "    if ((dataPoint[1]=='double') or (dataPoint[1]=='int')):\n",
    "        cols.append(dataPoint[0]) "
   ]
  },
  {
   "cell_type": "code",
   "execution_count": 137,
   "metadata": {},
   "outputs": [
    {
     "name": "stdout",
     "output_type": "stream",
     "text": [
      "+----+--------------+---------------+-----+---------+-----+------------------+\n",
      "| Age|Total_Purchase|Account_Manager|Years|Num_Sites|Churn|days_since_Onboard|\n",
      "+----+--------------+---------------+-----+---------+-----+------------------+\n",
      "|42.0|       11066.8|              0| 7.22|      8.0|    1|              1553|\n",
      "|41.0|      11916.22|              0|  6.5|     11.0|    1|              1570|\n",
      "|38.0|      12884.75|              0| 6.67|     12.0|    1|               519|\n",
      "|42.0|       8010.76|              0| 6.71|     10.0|    1|              1318|\n",
      "|37.0|       9191.58|              0| 5.56|      9.0|    1|               681|\n",
      "+----+--------------+---------------+-----+---------+-----+------------------+\n",
      "only showing top 5 rows\n",
      "\n"
     ]
    }
   ],
   "source": [
    "data_model = data.select(cols)\n",
    "data_model.show(5)"
   ]
  },
  {
   "cell_type": "code",
   "execution_count": 138,
   "metadata": {},
   "outputs": [
    {
     "name": "stdout",
     "output_type": "stream",
     "text": [
      "Total customers: 900\n",
      "Customers with no account manager: 467\n",
      "Customers with account manager: 433\n"
     ]
    }
   ],
   "source": [
    "print('Total customers:', data_model.count())\n",
    "print('Customers with no account manager:', data_model.filter(data_model['Account_Manager']==0).count())\n",
    "print('Customers with account manager:', data_model.filter(data_model['Account_Manager']==1).count())"
   ]
  },
  {
   "cell_type": "markdown",
   "metadata": {},
   "source": [
    "## The goal is to predict whether a customer will churn without an account manager assigned\n",
    "## Since account manager is randomly assigned, let's not put it in the model and select only customer with no account manager"
   ]
  },
  {
   "cell_type": "code",
   "execution_count": 141,
   "metadata": {},
   "outputs": [
    {
     "name": "stdout",
     "output_type": "stream",
     "text": [
      "Customer with no account manager to use in the model: 467\n",
      "+----+--------------+---------------+-----+---------+-----+------------------+\n",
      "| Age|Total_Purchase|Account_Manager|Years|Num_Sites|Churn|days_since_Onboard|\n",
      "+----+--------------+---------------+-----+---------+-----+------------------+\n",
      "|42.0|       11066.8|              0| 7.22|      8.0|    1|              1553|\n",
      "|41.0|      11916.22|              0|  6.5|     11.0|    1|              1570|\n",
      "|38.0|      12884.75|              0| 6.67|     12.0|    1|               519|\n",
      "|42.0|       8010.76|              0| 6.71|     10.0|    1|              1318|\n",
      "|37.0|       9191.58|              0| 5.56|      9.0|    1|               681|\n",
      "+----+--------------+---------------+-----+---------+-----+------------------+\n",
      "only showing top 5 rows\n",
      "\n"
     ]
    }
   ],
   "source": [
    "data_model = data_model.filter(data_model['Account_Manager']==0)\n",
    "print('Customer with no account manager to use in the model:', data_model.count())\n",
    "\n",
    "data_model.show(5)"
   ]
  },
  {
   "cell_type": "code",
   "execution_count": 142,
   "metadata": {},
   "outputs": [
    {
     "name": "stdout",
     "output_type": "stream",
     "text": [
      "+----+--------------+-----+---------+-----+------------------+\n",
      "| Age|Total_Purchase|Years|Num_Sites|Churn|days_since_Onboard|\n",
      "+----+--------------+-----+---------+-----+------------------+\n",
      "|42.0|       11066.8| 7.22|      8.0|    1|              1553|\n",
      "|41.0|      11916.22|  6.5|     11.0|    1|              1570|\n",
      "|38.0|      12884.75| 6.67|     12.0|    1|               519|\n",
      "|42.0|       8010.76| 6.71|     10.0|    1|              1318|\n",
      "|37.0|       9191.58| 5.56|      9.0|    1|               681|\n",
      "+----+--------------+-----+---------+-----+------------------+\n",
      "only showing top 5 rows\n",
      "\n"
     ]
    }
   ],
   "source": [
    "data_model = data_model.drop('Account_Manager')\n",
    "data_model.show(5)"
   ]
  },
  {
   "cell_type": "code",
   "execution_count": 143,
   "metadata": {},
   "outputs": [
    {
     "data": {
      "text/plain": [
       "['Age', 'Total_Purchase', 'Years', 'Num_Sites', 'days_since_Onboard']"
      ]
     },
     "execution_count": 143,
     "metadata": {},
     "output_type": "execute_result"
    }
   ],
   "source": [
    "vecCols = data_model.columns\n",
    "vecCols.remove('Churn')\n",
    "vecCols"
   ]
  },
  {
   "cell_type": "code",
   "execution_count": 144,
   "metadata": {},
   "outputs": [
    {
     "name": "stdout",
     "output_type": "stream",
     "text": [
      "+-----+--------------------+\n",
      "|Churn|            features|\n",
      "+-----+--------------------+\n",
      "|    1|[42.0,11066.8,7.2...|\n",
      "|    1|[41.0,11916.22,6....|\n",
      "|    1|[38.0,12884.75,6....|\n",
      "|    1|[42.0,8010.76,6.7...|\n",
      "|    1|[37.0,9191.58,5.5...|\n",
      "+-----+--------------------+\n",
      "only showing top 5 rows\n",
      "\n"
     ]
    }
   ],
   "source": [
    "from pyspark.ml.feature import VectorAssembler\n",
    "\n",
    "assembler = VectorAssembler(inputCols=vecCols,outputCol='features')\n",
    "data_feed = assembler.transform(data_model).select('Churn','features')\n",
    "data_feed.show(5)"
   ]
  },
  {
   "cell_type": "code",
   "execution_count": 145,
   "metadata": {},
   "outputs": [],
   "source": [
    "train_data, test_data = data_feed.randomSplit([0.7, 0.3])"
   ]
  },
  {
   "cell_type": "markdown",
   "metadata": {},
   "source": [
    "## Build a model"
   ]
  },
  {
   "cell_type": "code",
   "execution_count": 146,
   "metadata": {},
   "outputs": [],
   "source": [
    "from pyspark.ml.classification import LogisticRegression\n",
    "\n",
    "logReg = LogisticRegression(featuresCol='features',labelCol='Churn')\n",
    "logReg_trained = logReg.fit(train_data)"
   ]
  },
  {
   "cell_type": "code",
   "execution_count": 150,
   "metadata": {},
   "outputs": [
    {
     "name": "stdout",
     "output_type": "stream",
     "text": [
      "+-----+--------------------+--------------------+--------------------+----------+\n",
      "|Churn|            features|       rawPrediction|         probability|prediction|\n",
      "+-----+--------------------+--------------------+--------------------+----------+\n",
      "|  0.0|[26.0,8939.61,4.5...|[8.24435044556657...|[0.99973733028454...|       0.0|\n",
      "|  0.0|[28.0,8670.98,3.9...|[9.56471671670916...|[0.99992984383522...|       0.0|\n",
      "|  0.0|[28.0,11204.23,3....|[3.17279429372938...|[0.95979754444224...|       0.0|\n",
      "|  0.0|[29.0,9378.24,4.9...|[5.56045202975208...|[0.99616770594780...|       0.0|\n",
      "|  0.0|[29.0,9617.59,5.4...|[5.47788020783679...|[0.99583920734451...|       0.0|\n",
      "+-----+--------------------+--------------------+--------------------+----------+\n",
      "only showing top 5 rows\n",
      "\n"
     ]
    }
   ],
   "source": [
    "logReg_trained.summary.predictions.show(5)"
   ]
  },
  {
   "cell_type": "code",
   "execution_count": null,
   "metadata": {},
   "outputs": [],
   "source": []
  }
 ],
 "metadata": {
  "kernelspec": {
   "display_name": "Python 3",
   "language": "python",
   "name": "python3"
  },
  "language_info": {
   "codemirror_mode": {
    "name": "ipython",
    "version": 3
   },
   "file_extension": ".py",
   "mimetype": "text/x-python",
   "name": "python",
   "nbconvert_exporter": "python",
   "pygments_lexer": "ipython3",
   "version": "3.5.2"
  }
 },
 "nbformat": 4,
 "nbformat_minor": 2
}
