{
 "cells": [
  {
   "cell_type": "markdown",
   "metadata": {},
   "source": [
    "## Set up a SparkSession connected to the socket create with Tweepy"
   ]
  },
  {
   "cell_type": "code",
   "execution_count": 3,
   "metadata": {},
   "outputs": [],
   "source": [
    "from pyspark.sql import SparkSession\n",
    "spark = SparkSession.builder.appName('streamTwitterTags').getOrCreate()"
   ]
  },
  {
   "cell_type": "code",
   "execution_count": 155,
   "metadata": {},
   "outputs": [],
   "source": [
    "from pyspark.sql.functions import lower, split, explode, substring, count\n",
    "\n",
    "# get tweets\n",
    "tweets = spark.readStream.format(\"socket\").option(\"host\", \"127.0.0.1\").option(\"port\", 5555).load()\n",
    "\n",
    "# convert to lowercase and split the words\n",
    "words_train = tweets.select(split(lower(tweets.value), \" \").alias(\"value\"))\n",
    "\n",
    "# 'explode' a list of words into rows with single word\n",
    "words_df = words_train.select(explode(words_train.value).alias('word_explode'))\n",
    "\n",
    "# keep only rows that the word starts with '#'\n",
    "hashtags = words_df.filter(substring(words_df.word_explode,0,1)=='#')\n",
    "hashtags = hashtags.select(hashtags.word_explode.alias('hashtag'))\n",
    "\n",
    "# count hashtags\n",
    "count_hashtags = hashtags.groupBy('hashtag').count()\n",
    "count_hashtags_order = count_hashtags.orderBy(count_hashtags['count'].desc())"
   ]
  },
  {
   "cell_type": "code",
   "execution_count": 156,
   "metadata": {},
   "outputs": [],
   "source": [
    "query = count_hashtags_order.writeStream.outputMode(\"complete\").format(\"console\").start()"
   ]
  },
  {
   "cell_type": "code",
   "execution_count": 157,
   "metadata": {},
   "outputs": [],
   "source": [
    "query.stop()"
   ]
  },
  {
   "cell_type": "code",
   "execution_count": null,
   "metadata": {},
   "outputs": [],
   "source": []
  }
 ],
 "metadata": {
  "kernelspec": {
   "display_name": "Python 3",
   "language": "python",
   "name": "python3"
  },
  "language_info": {
   "codemirror_mode": {
    "name": "ipython",
    "version": 3
   },
   "file_extension": ".py",
   "mimetype": "text/x-python",
   "name": "python",
   "nbconvert_exporter": "python",
   "pygments_lexer": "ipython3",
   "version": "3.5.2"
  }
 },
 "nbformat": 4,
 "nbformat_minor": 2
}
