{
 "cells": [
  {
   "cell_type": "markdown",
   "metadata": {},
   "source": [
    "## สำรวจความนิยมของเหล่าไอดอล BNK48 แบบ real-time จาก Twitter's hashtags ด้วย Python\n",
    "\n",
    "สำหรับคนที่สนใจเพียงแค่ผลการจับลำดับความนิยมของสาวๆ BNK48 ที่ได้จาก code ก็อ่านเพียงแค่หัวข้อนี้กับหัวข้อถัดไปและข้ามไปดูส่วน conclusion ที่มีตัว video บันทึกภาพการจัดลำดับความนิยมของสมาชิกวงจากการทำ Twitter streaming ที่ส่วนล่างสุดของ post นะครับ\n",
    "\n",
    "post นี้จะไม่ลงรายละเอียดมาก เหมาะสำหรับผู้เขียน Python เป็นอยู่แล้ว และอยากศึกษาการทำ data streaming แบบง่ายๆ โดยเป็นการแสดงตัวอย่างขั้นตอน ในการใช้ Python \n",
    "1. การดึงข้อมูลจาก Twitter\n",
    "2. การ Streaming และการจัดการข้อมูล\n",
    "3. การทำหน้าจอแสดงผลแบบ realtime อย่างง่ายๆ\n",
    "\n",
    "โปรเจ็คนี้ต่อยอดมาจากเนื้อหาเรื่องการจัดการ streaming data ด้วย Pyspark (Python's library for distributed computing) จากคอร์ส [Spark and Python for Big Data with PySpark](https://www.udemy.com/spark-and-python-for-big-data-with-pyspark/) บน [Udemy](https://www.udemy.com/) "
   ]
  },
  {
   "cell_type": "markdown",
   "metadata": {},
   "source": [
    "## Twitter กับ BNK48\n",
    "คาดว่าทุกคนน่าจะรู้จัก Twitter กันอยู่แล้ว ก็ขอบอกเพียงว่า Twitter นี่เป็น platform ที่เหมาะกับผู้ที่อยากฝึกทำ data streaming มากๆ ทั้งเรื่อง API support และ supply of data ที่ล้นเหลือ\n",
    "\n",
    "จากนั้นผู้เขียนก็มาคิดดูว่า data ชุดไหนที่น่าสนใจจะดึงมาลองเล่นดูและมีผู้พูดถึงอยู่เรื่อยๆ (continuous supply of data) ก็สรุปว่าจะเลือกสำรวจข้อความบน Twitter (tweets) ที่เกี่ยวกับกลุ่มไอดอลหญิงของไทยที่มาแรงและมีกลุ่มผู้ติดตามใน Twitter เป็นจำนวนมาก ไอดอลกลุ่มนี้ก็คือ BNK48\n",
    "\n",
    "ทีนี้เราก็มารู้จักกับสาวๆ BNK48 กันสักเล็กน้อย สั้นๆ ก็คือ -- \"BNK48 เป็นกลุ่มไอดอลหญิงของประเทศไทย และเป็นวงน้องสาวของกลุ่มไอดอลญี่ปุ่น AKB48 ภายใต้แนวคิดร่วมกันคือ \"ไอดอลที่คุณสามารถไปพบได้\" (จาก [Wikipedia](https://th.wikipedia.org/wiki/%E0%B8%9A%E0%B8%B5%E0%B9%80%E0%B8%AD%E0%B9%87%E0%B8%99%E0%B9%80%E0%B8%84%E0%B9%82%E0%B8%9F%E0%B8%A3%E0%B9%8C%E0%B8%95%E0%B8%B5%E0%B9%80%E0%B8%AD%E0%B8%95)) \n",
    "\n",
    "ฝากภาพเหล่าสมาชิก BNK48 ไว้เป็นที่ระลึก(ขอบคุณภาพจาก http://www.metalbridges.com/bnk48/)\n",
    "![BNK48](BNK48.jpg)\n"
   ]
  },
  {
   "cell_type": "markdown",
   "metadata": {},
   "source": [
    "## Techical part 0 -- Workflow\n",
    "\n",
    "ก่อนเริ่มส่วน technical ก็มาดู workflow กันก่อน สั้นๆ เราก็จะทำการ \n",
    "1. ดึงข้อมูลจาก Twitter ด้วย Tweepy\n",
    "2. Streaming และการจัดการข้อมูล DataFrame ด้วย Pyspark\n",
    "3. ทำหน้าจอแสดงผลแบบ real-time อย่างง่ายๆ บน Jupyter Notebook โดยใช้ pandas + matplotlib\n",
    "\n",
    "ซึ่งจริงๆ แล้วในขั้นที่ 2 เราจะใช้ pandas เลยก็ทำได้ และน่าจะสะดวกกว่าเสียด้วยซ้ำ แต่เราใช้ Pyspark เพื่อสาธิต workflow แบบง่ายๆ ที่จะสามารถนำไปต่อยอดในกรณีที่ต้องการใช้ cluster computation เมื่อต้องจัดการกับข้อมูลขนาดใหญ่\n",
    "\n",
    "ส่วนในขั้นที่ 3 ก็เพียงแค่ทำ while-loop มาครอบ code ที่ใช้ทำกราฟเท่านั้นเอง\n",
    "\n",
    "**environment ที่ใช้**\n",
    "* python 3.5.2\n",
    "* jupyter 4.4.0\n",
    "* tweepy 3.5.0\n",
    "* pyspark 2.2.0\n",
    "* pandas 0.21.0\n",
    "* matplotlib 2.1.0"
   ]
  },
  {
   "cell_type": "markdown",
   "metadata": {},
   "source": [
    "## Techical part 1 -- ดึงข้อมูลจาก Twitter ด้วย Tweepy\n",
    "\n",
    "สำหรับผู้ที่ไม่เคยมี account กับ Twitter ก่อนอื่นก็ต้องสร้าง Twitter account ก่อนนะครับ\n",
    "\n",
    "เมื่อมี Twitter account แล้ว ก็เข้าไปที่นี่ https://apps.twitter.com/ แล้วก็ login ตามกระบวนการปกติครับ จะเห็นหน้าต่างประมาณนี้\n",
    "\n",
    "<img src=\"twitterApp_01.png\" alt=\"twitterApp_firstPage\" style=\"width: 700px;\"/>\n",
    "\n",
    "จากนั้นก็เลือก **Create New App** เพื่อสร้างตัว Twitter app ที่เราจะใช้เป็นตัวกลางในการ Streaming ข้อมูล จาก Twitter -- เติมแค่ fields ที่จำเป็นต้องเติมก็พอ (ตรง Website ใส่เว็บตัวเองหรือ placeholder เช่น https://www.google.com ไปก็ได้)\n",
    "\n",
    "<img src=\"twitterApp_02.png\" alt=\"twitterApp_createApp\" style=\"width: 700px;\"/>\n",
    "\n",
    "เมื่อสร้าง app แล้ว ก็เข้าไปดูใน app นั้น จากนั้นเลือก **Keys and Access Tokens** โดยในหน้านี้จะมี 4 fields ที่เราจะนำค่าออกมาใช้ผูกกับ code ของเราเพื่อเรียกข้อมูล ประกอบด้วย Consumer Key (API Key), Consumer Secret (API Secret), Access Token, Access Token Secret\n",
    "\n",
    "<img src=\"twitterApp_03.png\" alt=\"twitterApp_keys\" style=\"width: 700px;\"/>\n",
    "\n",
    "#### หลังจากนั้นก็สร้างและบันทึก a Python script ตามไฟล์ที่แนบไว้นี้ครับ (ในตัวอย่างตั้งชื่อว่า streamingTwitterTags.py)\n",
    "\n",
    "ส่วนที่แต่ละคนต้องปรับเองคือ บรรทัดที่ 12-15 โดยเติม consumer_key, consumer_secret, access_token, และ access_secret ของตัวเองลงไปครับ (บรรทัดที่ 54 จะเปลี่ยนหรือไม่เปลี่ยนก็ตามสะดวกครับ, บรรทัดที่ 52 ก็ต้องเปลี่ยนหากไม่ต้องการให้ script ประมวลบน local host ครับ, บรรทัดที่ 45 ตั้งเป็น 'bnk48' ที่เราจะใช้เป็น keyword สำหรับคัดกรอง)"
   ]
  },
  {
   "cell_type": "code",
   "execution_count": null,
   "metadata": {},
   "outputs": [],
   "source": [
    "# create a file -- streamingTwitterTags.py\n",
    "\n",
    "# import modules\n",
    "import tweepy\n",
    "from tweepy import OAuthHandler, Stream\n",
    "from tweepy.streaming import StreamListener\n",
    "import socket\n",
    "import json\n",
    "\n",
    "\n",
    "# create credential variables\n",
    "consumer_key = 'your_consumer_key'        # put your consumer_key from Twitter API\n",
    "consumer_secret = 'your_consumer_secret'  # put your consumer_secret from Twitter API\n",
    "access_token = 'your_access_token'        # put your access_token from Twitter API\n",
    "access_secret = 'your_access_secret'      # put your access_secret from Twitter API\n",
    "\n",
    "# create a class that listens to tweets\n",
    "class TweetListener(StreamListener):\n",
    "    def __init__(self, csocket):\n",
    "        self.client_socket = csocket\n",
    "        \n",
    "    def on_data(self, data):\n",
    "        try:\n",
    "            msg = json.loads(data)\n",
    "            print(msg['text'].encode('utf-8'))\n",
    "            self.client_socket.send(msg['text'].encode('utf-8'))\n",
    "            return True\n",
    "        except BaseException as e:\n",
    "            print('Error', e)\n",
    "        return True\n",
    "    \n",
    "    def on_error(self, status):\n",
    "        print(status)\n",
    "        return True\n",
    "\n",
    "\n",
    "# create a function that operate on streamed data\n",
    "def sendData(c_socket):\n",
    "    auth = OAuthHandler(consumer_key, consumer_secret)\n",
    "    auth.set_access_token(access_token, access_secret)\n",
    "    \n",
    "    twitter_stream = Stream(auth, TweetListener(c_socket))\n",
    "    # set a filter to track tweets with a string in the filter set\n",
    "    twitter_stream.filter(track=['#BNK48'])\n",
    "    \n",
    "\n",
    "# execute if 'main'\n",
    "if __name__ == '__main__':\n",
    "    s = socket.socket()\n",
    "    # set the host to be a localhost\n",
    "    host = '127.0.0.1' \n",
    "    # set the connection port to be 5555\n",
    "    port = 5555\n",
    "    s.bind((host, port))\n",
    "    \n",
    "    print('listening on port:', port)\n",
    "    \n",
    "    s.listen()\n",
    "    c, addr = s.accept()\n",
    "    \n",
    "    sendData(c)"
   ]
  },
  {
   "cell_type": "markdown",
   "metadata": {},
   "source": [
    "ตอนนี้เราก็ได้ script ที่จะใช้ดึงข้อมูลจาก Twitter แล้วครับ ต่อไปก็เป็นการเตรียม PySpark code สำหรับทำ data streaming ครับ"
   ]
  },
  {
   "cell_type": "markdown",
   "metadata": {},
   "source": [
    "## Technical part 2 -- Streaming และการจัดการข้อมูล DataFrame ด้วย Pyspark\n",
    "\n",
    "ผู้เขียนเตรียม code สำหรับ streaming data บน Jupyter Notebook โดยใช้ PySpark ดังส่วนข้างล่างครับ\n",
    "มีกระบวนการโดยสรุปก็คือ\n",
    "* บรรทัดที่ 5: สร้าง SparkSession\n",
    "* บรรทัดที่ 8: เชื่อมต่อ streaming socket โดยให้กรอกค่า \"host\" และ ค่า \"port\" ที่เราตั้งไว้ตามบรรทัดที่ 52 และ 54 ใน streamingTwitterTags.py\n",
    "* บรรทัดที่ 10-22: จัดการข้อมูล twitter streaming โดยค่าบนบรรทัดที่ 22 คือ PySpark DataFrame ที่เรียงลำดับ hashtags ทั้งหมดจากมากลงไปหาน้อยโดยเก็บข้อมูลจาก tweets ทั้งหมดที่มีคำว่า '#bnk48' อยู่ (ตั้งไว้ที่บรรทัดที่ 45 ใน streamingTwitterTags.py)\n",
    "* บรรทัดที่ 25-26: บันทึกเวลาและเริ่มการ streaming โดยให้ผลลัพธ์บันทึกไว้ใน table ชื่อ \"topTagsTable\""
   ]
  },
  {
   "cell_type": "code",
   "execution_count": 1,
   "metadata": {},
   "outputs": [],
   "source": [
    "from pyspark.sql import SparkSession\n",
    "from pyspark.sql.functions import lower, split, explode, substring, count\n",
    "from datetime import datetime\n",
    "\n",
    "spark = SparkSession.builder.appName('streamTwitterTags').getOrCreate()\n",
    "\n",
    "# get tweets\n",
    "tweets = spark.readStream.format(\"socket\").option(\"host\", \"127.0.0.1\").option(\"port\", 5555).load()\n",
    "\n",
    "# convert to lowercase and split the words\n",
    "words_train = tweets.select(split(lower(tweets.value), \" \").alias(\"value\"))\n",
    "\n",
    "# 'explode' a list of words into rows with single word\n",
    "words_df = words_train.select(explode(words_train.value).alias('word_explode'))\n",
    "\n",
    "# keep only rows that the word starts with '#'\n",
    "hashtags = words_df.filter(substring(words_df.word_explode,0,1)=='#')\n",
    "hashtags = hashtags.select(hashtags.word_explode.alias('hashtag'))\n",
    "\n",
    "# count hashtags\n",
    "count_hashtags = hashtags.groupBy('hashtag').count()\n",
    "count_hashtags_order = count_hashtags.orderBy(count_hashtags['count'].desc())\n",
    "\n",
    "# start streaming\n",
    "start_time = datetime.now()\n",
    "query = count_hashtags_order.writeStream.outputMode(\"complete\").format(\"memory\").queryName(\"topTagsTable\").start()"
   ]
  },
  {
   "cell_type": "markdown",
   "metadata": {},
   "source": [
    "เมื่อเรามีทั้ง script สำหรับทำการ streaming tweets (streamingTwitterTags.py) และ script สำหรับจัดการข้อมูลบน Jupyter Notebook แล้ว เราก็พร้อมที่จะทดสอบระบบ โดยเริ่มจากสั่ง run script สำหรับ streaming ก่อน\n",
    "\n",
    "<img src=\"twitterStreaming_run.png\" alt=\"twitterStreaming_run\" style=\"width: 700px;\"/>\n",
    "\n",
    "จากนั้นก็ run code PySpark บน Jupyter Notebook เท่านี้ code ของเราเริ่มดึง tweets จาก Twitter มาจัดการสร้าง DataFrame\n",
    "ถ้าอยากจะรู้ว่า ณ ขณะนั้นๆ DataFrame ของเราหน้าตาเป็นยังไงก็เรียกดูได้ด้วยคำสั่ง"
   ]
  },
  {
   "cell_type": "code",
   "execution_count": 77,
   "metadata": {},
   "outputs": [],
   "source": [
    "import socket\n",
    "\n",
    "s = socket.socket()\n",
    "host = '127.0.0.1' # needs to be in quote\n",
    "port = 5555\n",
    "s.connect((host, port))"
   ]
  },
  {
   "cell_type": "markdown",
   "metadata": {},
   "source": [
    "s.recv --> the command retrieves streaming text upto to the set buffersize. If the text size in momery is larger than the set buffersize, the remaining part is retrieved when the .recv is called again."
   ]
  },
  {
   "cell_type": "code",
   "execution_count": 43,
   "metadata": {},
   "outputs": [
    {
     "data": {
      "text/plain": [
       "'เอียด และเล่นกิจกรรมที่นี่ → https://t.c…RT @kamicherprang: เฌอปรางจะไปจับโปเกม่อน 😂\\n#CherprangBNK48 #BNK48 #lovecherprangBNK48 💕 https://t.co/eTWB5p0EjiRT @bnk48official: 【คอนเสิร์ตเดี่ยวเต็มรูปแบบครั้งแรกของ BNK48】\\n\\nวันที่ : 31 มีนาคม 2561\\nเปิดขายบัตร : 3 มีนาคม 2561 เป็นต้นไป\\nสถานที่ : ไบ…RT @bnk48official: 【คอนเสิร์ตเดี่ยวเต็มรูปแบบครั้งแรกของ BNK48】\\n\\nวันที่ : 31 มีนาคม 2561\\nเปิดขายบัตร : 3 มีนาคม 2561 เป็นต้นไป\\nสถานที่ : ไบ…RT @MusicLibraryTH: 2018 #MusicTop40 สัปดาห์ที่ 5\\n\\n***Highlight***\\nPopular Viewed\\n- #วันหนึ่งฉันเดินเข้าป่า - Max Jenmana\\nPopular Vote\\n- #…เราเสียใจตรงกับวันเรามีเรียนT^T #BNK48RT @bnk48official: 【คอนเสิร์ตเดี่ยวเต็มรูปแบบครั้งแรกของ BNK48】\\n\\nวันที่ : 31 มีนาคม 2561\\nเปิดขายบัตร : 3 มีนาคม 2561 เป็นต้นไป\\nสถานที่ : ไบ…RT @bnk48official: 【คอนเสิร์ตเดี่ยวเต็มรูปแบบครั้งแรกของ BNK48】\\n\\nวันที่ : 31 มีนาคม 2561\\nเปิดขายบัตร : 3 มีนาคม 2561 เป็นต้นไป\\nสถานที่ : ไบ…RT @Chersicfanpage: โอ้โห้วววว สปอยฟตบบ เฌอสิคคค ออกมาแบบนี้ก็ตายสิคะ ฮืออ มีทั่งซบ ทั่งจ้องตาาา ดูสิค่ะคุณณ โอ้ยย ดีต่อใจจ ฮืออ แอดตายแล้ว…RT @Tan_OshiMobile: เพลง BNK48 ถูกแปลงเป็นเพลง “เครปป้าเฉื่อย” พร้อมสอนการยิงมิกซ์ซะด้วย \\U0001f923#BNK48 #จันทร์Shockโลกปู๊นปู๊น \\n@oatpramote @pong…RT @bnk48official: 【คอนเสิร์ตเดี่ยวเต็มรูปแบบครั้งแรกของ BNK48】\\n\\nวันที่ : 31 มีนาคม 2561\\nเปิดขายบัตร : 3 มีนาคม 2561 เป็นต้นไป\\nสถานที่ : ไบ…RT @ejanentertain: ปัญนี้..ที่รอคอย คุยเรื่องเรียน เรื่องงาน กับปัญสิกรณ์ ติยะกร\\n@PunBNK48 #PunBNK48 @Punbnk48Th #ปัญ #BNK48 ดูวิดีโอ &gt; htt…จะจองทันไหมจุดนี้ ภาวนาเอาใจช่วยที ขอให้กดบัตรคอนนี้ได้ก็พอ 🙏🙏 #bnk48 https://t.co/esavpJKT1Iข้อมูลฮอล 106 #BNK48 https://t.co/hCelqSiCqHRT @Cherodinger: โฟโต้บุ๊ค หนามาก #chersic ช่างดีงาม #bnk48 #CHerodinger #cherprangbnk48 #Musicbnk48 #พี่เฌอน้องสิค https://t.co/knFYsGXXl1RT @bnk48official: 【คอนเสิร์ตเดี่ยวเต็มรูปแบบครั้งแรกของ BNK48】\\n\\nวันที่ : 31 มีนาคม 2561\\nเปิดขายบัตร : 3 มีนาคม 2561 เป็นต้นไป\\nสถานที่ : ไบ…RT @Cat_The_Ripperz: จริงๆ bnk ควรมีจิตแพทย์เด็กหรือนักจิตวิทยาประจำวงนะ คอยให้คำปรึกษาเมมเบอร์ เพราะเมมส่วนใหญ่ยังเด็ก และวงกำลังก้าวกระโด…พาคุณเฌอมาเที่ยวทะเล คิคิ 😂😂😂\\n#CherprangBNK48 #BNK48 \\n#TowerUnite https://t.co/sYYPBg7eDtRT @bnk48official: 【คอนเสิร์ตเดี่ยวเต็มรูปแบบครั้งแรกของ BNK48】\\n\\nวันที่ : 31 มีนาคม 2561\\nเปิดขายบัตร : 3 มีนาคม 2561 เป็นต้นไป\\nสถานที่ : ไบ…RT @bnk48official: 【คอนเสิร์ตเดี่ยวเต็มรูปแบบครั้งแรกของ BNK48】\\n\\nวันที่ : 31 มีนาคม 2561\\nเปิดขายบัตร : 3 มีนาคม 2561 เป็นต้นไป\\nสถานที่ : ไบ…RT @bnk48official: 【คอนเสิร์ตเดี่ยวเต็มรูปแบบครั้งแรกของ BNK48】\\n\\nวันที่ : 31 มีนาคม 2561\\nเปิดขายบัตร : 3 มีนาคม 2561 เป็นต้นไป\\nสถานที่ : ไบ…ต้อง 2000 แล้วแหละ https://t.co/HphFmF8Wywไป!!!! https://t.co/Tpvrum3XQrRT @chanchhandd: ใครใน #BNK48 ที่อยู่ด้วยแล้วสบายใจที่สุด? อร ‘ตาหวาน’ \\nชัดเจนนะทุกคน~ 😳 #OrnBNK48 #TarwaanBNK48 https://t.co/7BLEnw7UBwRT @bnk48official: 【คอนเสิร์ตเดี่ยวเต็มรูปแบบครั้งแรกของ BNK48】\\n\\nวันที่ : 31 มีนาคม 2561\\nเปิดขายบัตร : 3 มีนาคม 2561 เป็นต้นไป\\nสถานที่ : ไบ…RT @bnk48official: 【คอนเสิร์ตเดี่ยวเต็มรูปแบบครั้งแรกของ BNK48】\\n\\nวันที่ : 31 มีนาคม 2561\\nเปิดขายบัตร : 3 มีนาคม 2561 เป็นต้นไป\\nสถานที่ : ไบ…RT @bnk48official: 【คอนเสิร์ตเดี่ยวเต็มรูปแบบครั้งแรกของ BNK48】\\n\\nวันที่ : 31 มีนาคม 2561\\nเปิดขายบัตร : 3 มีนาคม 2561 เป็นต้นไป\\nสถานที่ : ไบ…RT @bnk48official: 【คอนเสิร์ตเดี่ยวเต็มรูปแบบครั้งแรกของ BNK48】\\n\\nวันที่ : 31 มีนาคม 2561\\nเปิดขายบัตร : 3 มีนาคม 2561 เป็นต้นไป\\nสถานที่ : ไบ…RT @bnk48official: 【คอนเสิร์ตเดี่ยวเต็มรูปแบบครั้งแรกของ BNK48】\\n\\nวันที่ : 31 มีนาคม 2561\\nเปิดขายบัตร : 3 มีนาคม 2561 เป็นต้นไป\\nสถานที่ : ไบ…RT @jorhorkor48: ดูพวกนางขายของสิ #OrnBNK48 #BNK48 https://t.co/8jxejogssmRT @bnk48official: 【คอนเสิร์ตเดี่ยวเต็มรูปแบบครั้งแรกของ BNK48】\\n\\nวันที่ : 31 มีนาคม 2561\\nเปิดขายบัตร : 3 มีนาคม 2561 เป็นต้นไป\\nสถานที่ : ไบ…RT @bnk48official: 【คอนเสิร์ตเดี่ยวเต็มรูปแบบครั้งแรกของ BNK48】\\n\\nวันที่ : 31 มีนาคม 2561\\nเปิดขายบัตร : 3 มีนาคม 2561 เป็นต้นไป\\nสถานที่ : ไบ…RT @bnk48official: 【คอนเสิร์ตเดี่ยวเต็มรูปแบบครั้งแรกของ BNK48】\\n\\nวันที่ : 31 มีนาคม 2561\\nเปิดขายบัตร : 3 มีนาคม 2561 เป็นต้นไป\\nสถานที่ : ไบ…RT @bnk48official: 【คอนเสิร์ตเดี่ยวเต็มรูปแบบครั้งแรกของ BNK48】\\n\\nวันที่ : 31 มีนาคม 2561\\nเปิดขายบัตร : 3 มีนาคม 2561 เป็นต้นไป\\nสถานที่ : ไบ…RT @bnk48official: 【คอนเสิร์ตเดี่ยวเต็มรูปแบบครั้งแรกของ BNK48】\\n\\nวันที่ : 31 มีนาคม 2561\\nเปิดขายบัตร : 3 มีนาคม 2561 เป็นต้นไป\\nสถานที่ : ไบ…RT @bnk48official: 【คอนเสิร์ตเดี่ยวเต็มรูปแบบครั้งแรกของ BNK48】\\n\\nวันที่ : 31 มีนาคม 2561\\nเปิดขายบัตร : 3 มีนาคม 2561 เป็นต้นไป\\nสถานที่ : ไบ…RT @bnk48official: 【คอนเสิร์ตเดี่ยวเต็มรูปแบบครั้งแรกของ BNK48】\\n\\nวันที่ : 31 มีนาคม 2561\\nเปิดขายบัตร : 3 มีนาคม 2561 เป็นต้นไป\\nสถานที่ : ไบ…RT @chanchhandd: อันยองงง~ #BNK48 นั่งอ่านจอยมาตั้งแต่เช้าพึ่งจบใครยังไม่อ่านเรื่องนี้แนะนำอ่านนะ นี่อ่านช้าไปหน่อยแต่อ่านจบละ อารมณ์สีเทาห…ยังไงอะหนูวววว https://t.co/vuVXmuzmQXRT @bnk48official: 【คอนเสิร์ตเดี่ยวเต็ม'"
      ]
     },
     "execution_count": 43,
     "metadata": {},
     "output_type": "execute_result"
    }
   ],
   "source": [
    "tweet = s.recv(10000)\n",
    "tweet_str = tweet.decode(\"utf-8\")\n",
    "tweet_str"
   ]
  },
  {
   "cell_type": "code",
   "execution_count": 128,
   "metadata": {},
   "outputs": [
    {
     "data": {
      "image/png": "[encoded data removed]",
      "text/plain": [
       "<matplotlib.figure.Figure at 0x7f95c10c3630>"
      ]
     },
     "metadata": {},
     "output_type": "display_data"
    }
   ],
   "source": [
    "import time\n",
    "import re\n",
    "from datetime import timedelta\n",
    "import pandas as pd\n",
    "import matplotlib.pyplot as plt\n",
    "from matplotlib.ticker import MaxNLocator\n",
    "from IPython import display\n",
    "\n",
    "%matplotlib inline\n",
    "\n",
    "i = 0\n",
    "df = pd.DataFrame([], columns=['hashtags'])\n",
    "\n",
    "# interactively query in-memory table\n",
    "while i < 100:\n",
    "    tweet = s.recv(2048)\n",
    "    tweet_str = tweet.decode(\"utf-8\",errors='ignore')\n",
    "    tweet_str\n",
    "    \n",
    "    hashtags = [hashtag.lower() for hashtag in re.split('\\s+', tweet_str) if len(hashtag)>0 and hashtag[0]==\"#\"]\n",
    "    \n",
    "    temp_df = pd.DataFrame(hashtags, columns=['hashtag'])\n",
    "    df = pd.concat([df, temp_df])\n",
    "    results = df.groupby('hashtag')['hashtag'].count().sort_values(ascending=False).reset_index(name='count').head(11)\n",
    "    \n",
    "    bnk48_count = results[results['hashtag']=='#bnk48']['count'].values\n",
    "    \n",
    "    fig, ax = plt.subplots(1,1,figsize=(10,6)) \n",
    "    results[results['hashtag']!='#bnk48'].plot(kind='bar', x='hashtag', y='count', legend=False, ax=ax)\n",
    "    ax.set_title(\"Top 10 hashtags related to #BNK48 (%d counts)\" % bnk48_count, fontsize=18)\n",
    "    ax.set_xlabel(\"Hashtag\", fontsize=18)\n",
    "    ax.set_ylabel(\"Count\", fontsize=18)\n",
    "    ax.set_xticklabels(ax.get_xticklabels(), {\"fontsize\":14}, rotation=30)\n",
    "    ax.yaxis.set_major_locator(MaxNLocator(integer=True)) # show only integer yticks\n",
    "    plt.yticks(fontsize=14)\n",
    "    plt.show()\n",
    "    \n",
    "    time.sleep(1)\n",
    "    display.clear_output(wait=True)\n",
    "    i += 1\n",
    "    "
   ]
  },
  {
   "cell_type": "code",
   "execution_count": 129,
   "metadata": {},
   "outputs": [
    {
     "data": {
      "text/html": [
       "<div>\n",
       "<style scoped>\n",
       "    .dataframe tbody tr th:only-of-type {\n",
       "        vertical-align: middle;\n",
       "    }\n",
       "\n",
       "    .dataframe tbody tr th {\n",
       "        vertical-align: top;\n",
       "    }\n",
       "\n",
       "    .dataframe thead th {\n",
       "        text-align: right;\n",
       "    }\n",
       "</style>\n",
       "<table border=\"1\" class=\"dataframe\">\n",
       "  <thead>\n",
       "    <tr style=\"text-align: right;\">\n",
       "      <th></th>\n",
       "      <th>hashtag</th>\n",
       "      <th>count</th>\n",
       "    </tr>\n",
       "  </thead>\n",
       "  <tbody>\n",
       "    <tr>\n",
       "      <th>0</th>\n",
       "      <td>#bnk48</td>\n",
       "      <td>78</td>\n",
       "    </tr>\n",
       "    <tr>\n",
       "      <th>1</th>\n",
       "      <td>#punbnk48</td>\n",
       "      <td>19</td>\n",
       "    </tr>\n",
       "    <tr>\n",
       "      <th>2</th>\n",
       "      <td>#จันทร์shockโลกปู๊นปู๊น</td>\n",
       "      <td>13</td>\n",
       "    </tr>\n",
       "    <tr>\n",
       "      <th>3</th>\n",
       "      <td>#ornbnk48</td>\n",
       "      <td>12</td>\n",
       "    </tr>\n",
       "    <tr>\n",
       "      <th>4</th>\n",
       "      <td>#cherprangbnk48</td>\n",
       "      <td>7</td>\n",
       "    </tr>\n",
       "    <tr>\n",
       "      <th>5</th>\n",
       "      <td>#bnk48roadshowinchiangmai</td>\n",
       "      <td>6</td>\n",
       "    </tr>\n",
       "    <tr>\n",
       "      <th>6</th>\n",
       "      <td>#bnk48rt</td>\n",
       "      <td>5</td>\n",
       "    </tr>\n",
       "    <tr>\n",
       "      <th>7</th>\n",
       "      <td>#namneungbnk48</td>\n",
       "      <td>4</td>\n",
       "    </tr>\n",
       "    <tr>\n",
       "      <th>8</th>\n",
       "      <td>#maysabnk48</td>\n",
       "      <td>4</td>\n",
       "    </tr>\n",
       "    <tr>\n",
       "      <th>9</th>\n",
       "      <td>#katebnk48</td>\n",
       "      <td>3</td>\n",
       "    </tr>\n",
       "  </tbody>\n",
       "</table>\n",
       "</div>"
      ],
      "text/plain": [
       "                     hashtag  count\n",
       "0                     #bnk48     78\n",
       "1                  #punbnk48     19\n",
       "2    #จันทร์shockโลกปู๊นปู๊น     13\n",
       "3                  #ornbnk48     12\n",
       "4            #cherprangbnk48      7\n",
       "5  #bnk48roadshowinchiangmai      6\n",
       "6                   #bnk48rt      5\n",
       "7             #namneungbnk48      4\n",
       "8                #maysabnk48      4\n",
       "9                 #katebnk48      3"
      ]
     },
     "execution_count": 129,
     "metadata": {},
     "output_type": "execute_result"
    }
   ],
   "source": [
    "results"
   ]
  },
  {
   "cell_type": "code",
   "execution_count": 76,
   "metadata": {},
   "outputs": [],
   "source": [
    "s.close()"
   ]
  },
  {
   "cell_type": "markdown",
   "metadata": {},
   "source": [
    "ก็จะเป็นการเรียกข้อมูล hashtags 11 ลำดับแรกขึ้นมา ขั้นตอนนี้อาจต้องรอให้เรา run code ไปสักพัก (ไม่กี่วินาทีก็พอ) ก่อนเพื่อให้มีข้อมูลใน DataFrame มาแสดง ไม่งั้นเราก็จะเห็น DataFrame เปล่าๆ\n",
    "\n",
    "การเห็น DataFrame ออกมาแบบนี้ก็ดีในระดับนึง แต่จะดียิ่งขึ้นถ้าเรานำข้อมูลที่ streaming นี้มาวาด chart ที่ช่วยแสดงผลแบบ real-time"
   ]
  },
  {
   "cell_type": "markdown",
   "metadata": {},
   "source": [
    "## Technical part 3 -- ทำหน้าจอแสดงผลแบบ real-time อย่างง่ายๆ บน jupyter notebook\n",
    "\n",
    "เมื่อเรามีตัว PySpark DataFrame แล้ว วิธีที่จะแสดงผลอย่างง่ายก็คือ แปลงข้อมูลเป็น Pandas DataFrame แล้วใช้ที่สุด Pandas+Matplotlib ช่วยทำ chart ครับ โดยเราอยากให้ chart ของเราคอย update เรื่อยๆ ตามช่วงเวลาที่เรากำหนดไว้\n",
    "\n",
    "ตัว code ก็มีประมาณนี้ครับ\n",
    "\n",
    "* บรรทัดที่ 10: ตั้งค่าเวลาที่ต้องการ update ตัว chart ที่จะแสดง โดยในตัวอย่างตั้งให้ update ทุก 10 นาที นับจากเวลาที่เริ่มทำ streaming จาก code ในส่วนก่อนหน้า\n",
    "* บรรทัดที่ 15-19: ดึงข้อมูล top-hashtag streaming ที่บันทึกไว้ใน PySpark DataFrame มา 11 ลำดับ แล้วแปลงให้เป็น Pandas DataFrame จากนั้นก็นับว่ามี hashtag ว่า '#bnk48' อยู่กี่ครั้ง เพื่อเก็บไว้เป็นตัวอ้างอิง (hashtags 11 ตัวที่ดึงมาจะต้องมีคำว่า '#bnk48' แน่นอน เพราะเป็นคำที่ใช้ในการ filter tweets ส่วนที่เหลืออีก 10 hashtags ก็จะเป็นส่วนที่เราจะมาทำ chart ลำดับความนิยมของ hashtags ที่เกี่ยวข้องกับ '#bnk48')\n",
    "* บรรทัดที่ 21-22: ให้คอยแสดงค่าเปรียบเทียบเวลาที่เริ่ม streaming และเวลาที่ทำการประมวล chart  \n",
    "* บรรทัดที่ 24-32: ส่วนนี้เป็นการทำ bar chart เพื่อแสดง 10 ลำดับ hashtags ยอดนิยมที่เกี่ยวเนื่องกับ '#bnk48' ครับ"
   ]
  },
  {
   "cell_type": "code",
   "execution_count": 2,
   "metadata": {
    "collapsed": true
   },
   "outputs": [
    {
     "name": "stdout",
     "output_type": "stream",
     "text": [
      "start time: 2018-01-20 13:03:13\n",
      "current time: 2018-01-20 13:13:20\n"
     ]
    },
    {
     "data": {
      "image/png": "[encoded data removed]",
      "text/plain": [
       "<matplotlib.figure.Figure at 0x7fa4c14c9470>"
      ]
     },
     "metadata": {},
     "output_type": "display_data"
    }
   ],
   "source": [
    "import time\n",
    "from datetime import timedelta\n",
    "import pandas as pd\n",
    "import matplotlib.pyplot as plt\n",
    "from matplotlib.ticker import MaxNLocatorหลังหลัง\n",
    "from IPython import display\n",
    "\n",
    "%matplotlib inline\n",
    "\n",
    "# interactively query in-memory table\n",
    "while datetime.now() < (start_time + timedelta(minutes=10)):\n",
    "    time.sleep( 10 )    \n",
    "    display.clear_output(wait=True)\n",
    "    \n",
    "    top_hashtags_sql = spark.sql(\"select * from topTagsTable\").limit(11)\n",
    "    \n",
    "    top_hashtags = top_hashtags_sql.toPandas()\n",
    "\n",
    "    bnk48_count = top_hashtags[top_hashtags['hashtag']=='#bnk48']['count'].values\n",
    "\n",
    "    print(\"start time:\", start_time.strftime('%Y-%m-%d %H:%M:%S'))\n",
    "    print(\"current time:\", datetime.now().strftime('%Y-%m-%d %H:%M:%S'))\n",
    "    \n",
    "    fig, ax = plt.subplots(1,1,figsize=(10,6)) \n",
    "    top_hashtags[top_hashtags['hashtag']!='#bnk48'].plot(kind='bar', x='hashtag', y='count', legend=False, ax=ax)\n",
    "    ax.set_title(\"Top 10 hashtags related to #BNK48 (%d counts)\" % bnk48_count, fontsize=18)\n",
    "    ax.set_xlabel(\"Hashtag\", fontsize=18)\n",
    "    ax.set_ylabel(\"Count\", fontsize=18)\n",
    "    ax.set_xticklabels(ax.get_xticklabels(), {\"fontsize\":14}, rotation=30)\n",
    "    ax.yaxis.set_major_locator(MaxNLocator(integer=True)) # show only integer yticks\n",
    "    plt.yticks(fontsize=14)\n",
    "    plt.show()"
   ]
  },
  {
   "cell_type": "markdown",
   "metadata": {},
   "source": [
    "## Ready. Set. Go!\n",
    "\n",
    "หลังจากเรามี code ทุกอย่างเรียบร้อยแล้วก็ทำการ run ทุกอย่างตามที่เขียนไว้ในส่วน **Technical part 2** และ **Technical part 3** ได้เลยครับ\n",
    "\n",
    "ก็จะได้ chart ออกมาประมาณนี้ โดยตัว chart จะ update ตัวเองเรื่อยๆ ตามเวลา (timedelta) ที่ตั้งไว้\n",
    "\n",
    "<img src=\"chart_example.png\" alt=\"chart_example\" style=\"width: 700px;\"/>\n",
    "\n",
    "เมื่อเราทำการ streaming จนพอใจแล้วก็ปิดการ streaming ด้วยคำสั่งนี้ครับ"
   ]
  },
  {
   "cell_type": "code",
   "execution_count": null,
   "metadata": {},
   "outputs": [],
   "source": [
    "## Stop query when done\n",
    "query.stop()"
   ]
  },
  {
   "cell_type": "markdown",
   "metadata": {},
   "source": [
    "ปล. อย่าลืมไปปิดตัว terminal ที่รัน python script (streamingTwitterTags.py) เชื่อมต่อกับ Twitter API ด้วยนะครับ"
   ]
  },
  {
   "cell_type": "markdown",
   "metadata": {},
   "source": [
    "## สรุปผลการสำรวจความนิยมของเหล่าไอดอล BNK48 แบบ real-time ในคืนวัน Valentine\n",
    "\n",
    "ผู้เขียนได้ทำการรัน code ที่เราทำขึ้นในคืนวัน Valentine ช่วงเวลา 20.00-21.00 นะครับ\n",
    "\n",
    "เรามาดูกันว่าสาวๆ BNK48 คนไหนบ้างที่มีชาว Twitter พูดถึงกันมากที่สุดในช่วงหัวค่ำของวันแห่งความรัก"
   ]
  },
  {
   "cell_type": "markdown",
   "metadata": {},
   "source": [
    "![Animated ranking results](output.gif)"
   ]
  },
  {
   "cell_type": "markdown",
   "metadata": {},
   "source": [
    "จากไฟล์ภาพนะครับ เราก็จะเห็นว่าในตอนเริ่มต้นการ streaming \n",
    "\n",
    "บรรยาย บรรยาย บรรยาย บรรยาย บรรยาย บรรยาย บรรยาย บรรยาย บรรยาย บรรยาย บรรยาย บรรยาย บรรยาย บรรยาย บรรยาย บรรยาย บรรยาย บรรยาย บรรยาย บรรยาย บรรยาย บรรยาย บรรยาย บรรยาย บรรยาย บรรยาย บรรยาย บรรยาย บรรยาย บรรยาย บรรยาย บรรยาย บรรยาย บรรยาย บรรยาย บรรยาย บรรยาย บรรยาย บรรยาย บรรยาย บรรยาย บรรยาย บรรยาย บรรยาย บรรยาย บรรยาย บรรยาย บรรยาย บรรยาย บรรยาย บรรยาย บรรยาย บรรยาย บรรยาย บรรยาย บรรยาย บรรยาย บรรยาย บรรยาย บรรยาย บรรยาย บรรยาย บรรยาย บรรยาย บรรยาย บรรยาย บรรยาย บรรยาย บรรยาย บรรยาย บรรยาย บรรยาย บรรยาย บรรยาย บรรยาย บรรยาย บรรยาย บรรยาย บรรยาย บรรยาย\n"
   ]
  },
  {
   "cell_type": "markdown",
   "metadata": {},
   "source": [
    "## ส่งท้าย\n",
    "\n",
    "จบแล้วครับสำหรับการทำ code และตัวอย่างการสำรวจความนิยมของสาวๆ BNK48 โดยใช้ Twitter API, PySpark, และ Pandas+Matplotlib\n",
    "\n",
    "เป็นไงบ้างครับ โอชิใครขึ้นแท่นสมาชิกสุดฮอทของวงบ้าง โอชิใครหลุดลำดับไปก็ชวนเพื่อนๆ ไปช่วยกันทำคะแนนความนิยมเพิ่มได้โดยการไป flood Twitter กันนะครับ XD\n",
    "\n",
    "![otaku_power](otaku_power.jpg) \n",
    "image from https://holyonthenet.webnode.es/news/cafes-cosplay-/\n",
    "\n",
    "หวังว่าตัวอย่างสนุกๆ นี้จะพอเป็นประโยชน์กับผู้ที่สนใจจะทำ data manipulation หรือ data streaming ด้วย (Py)Spark บ้างนะครับ\n",
    "\n",
    "หากส่วนไหนผิดพลาดหรือข้อแนะนำเพิ่มเติมตรงไหนก็รบกวนช่วยแจ้งได้เลยนะครับ ขอบคุณครับผม"
   ]
  }
 ],
 "metadata": {
  "kernelspec": {
   "display_name": "Python 3",
   "language": "python",
   "name": "python3"
  },
  "language_info": {
   "codemirror_mode": {
    "name": "ipython",
    "version": 3
   },
   "file_extension": ".py",
   "mimetype": "text/x-python",
   "name": "python",
   "nbconvert_exporter": "python",
   "pygments_lexer": "ipython3",
   "version": "3.5.2"
  }
 },
 "nbformat": 4,
 "nbformat_minor": 2
}
