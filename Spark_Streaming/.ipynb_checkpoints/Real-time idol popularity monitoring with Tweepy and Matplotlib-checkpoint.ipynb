{
 "cells": [
  {
   "cell_type": "markdown",
   "metadata": {},
   "source": [
    "## สำรวจความนิยมของเหล่าไอดอล BNK48 แบบ real-time จาก Twitter's hashtags ด้วย Python\n",
    "\n",
    "สำรวจความนิยมของเหล่าไอดอล BNK48 แบบ real-time จาก Twitter's hashtags ด้วย Python\n",
    "สำหรับคนที่สนใจเพียงแค่ผลการจับลำดับความนิยมของสาวๆ BNK48 ที่ได้จาก code ก็อ่านเพียงแค่หัวข้อนี้กับหัวข้อถัดไปและข้ามไปดูส่วน conclusion ที่มีตัว video บันทึกภาพการจัดลำดับความนิยมของสมาชิกวงจากการทำ Twitter streaming ที่ส่วนล่างสุดของ post นะครับ\n",
    "\n",
    "post นี้จะไม่ลงรายละเอียดมาก เหมาะสำหรับผู้เขียน Python เป็นอยู่แล้ว และอยากศึกษาการทำ data streaming แบบง่ายๆ โดยเป็นการแสดงตัวอย่างขั้นตอน ในการใช้ Python\n",
    "\n",
    "1. การดึงข้อมูลจาก Twitter\n",
    "2. การ Streaming และการจัดการข้อมูล\n",
    "3. การทำหน้าจอแสดงผลแบบ realtime อย่างง่ายๆ\n",
    "\n",
    "ขั้นตอนส่วนที่ 1 นั้น นำมาจากจากคอร์ส [Spark and Python for Big Data with PySpark](https://www.udemy.com/spark-and-python-for-big-data-with-pyspark/) บน [Udemy](https://www.udemy.com/) \n",
    "\n",
    "ขั้นตอนที่ 2, 3 ในที่นี้ใช้ internal Python networking interface -- สำหรับผู้สนใจตัวอย่าง code ที่ทำแบบเดียวกันโดยใช้ PySpark ดูได้ที่ XXXXXXXXXXXXXXXXXXXXX"
   ]
  },
  {
   "cell_type": "markdown",
   "metadata": {},
   "source": [
    "## Twitter กับ BNK48\n",
    "คาดว่าทุกคนรู้จัก Twitter กันอยู่แล้ว ก็ขอเพิ่มเติมเพียงว่า Twitter นี่เป็น platform ที่เหมาะกับผู้ที่อยากฝึกทำ data streaming มากๆ ทั้งเรื่อง API support และ supply of data ที่ล้นเหลือ\n",
    "\n",
    "จากนั้นผู้เขียนก็มาคิดดูว่า data ชุดไหนที่น่าสนใจจะดึงมาลองเล่นดูและมีผู้พูดถึงอยู่เรื่อยๆ (continuous supply of data) ก็สรุปว่าจะเลือกสำรวจข้อความบน Twitter (tweets) ที่เกี่ยวกับกลุ่มไอดอลหญิงของไทยที่มาแรงและมีกลุ่มผู้ติดตามใน Twitter เป็นจำนวนมาก ไอดอลกลุ่มนี้ก็คือ BNK48\n",
    "\n",
    "ทีนี้เราก็มารู้จักกับสาวๆ BNK48 กันสักเล็กน้อย สั้นๆ ก็คือ -- \"BNK48 เป็นกลุ่มไอดอลหญิงของประเทศไทย และเป็นวงน้องสาวของกลุ่มไอดอลญี่ปุ่น AKB48 ภายใต้แนวคิดร่วมกันคือ \"ไอดอลที่คุณสามารถไปพบได้\" (จาก [Wikipedia](https://th.wikipedia.org/wiki/%E0%B8%9A%E0%B8%B5%E0%B9%80%E0%B8%AD%E0%B9%87%E0%B8%99%E0%B9%80%E0%B8%84%E0%B9%82%E0%B8%9F%E0%B8%A3%E0%B9%8C%E0%B8%95%E0%B8%B5%E0%B9%80%E0%B8%AD%E0%B8%95)) \n",
    "\n",
    "ฝากภาพเหล่าสมาชิก BNK48 ไว้เป็นที่ระลึก(ขอบคุณภาพจาก http://www.metalbridges.com/bnk48/)\n",
    "![BNK48](BNK48.jpg)\n"
   ]
  },
  {
   "cell_type": "markdown",
   "metadata": {},
   "source": [
    "## Techical part 0 -- Workflow\n",
    "\n",
    "ก่อนเริ่มส่วน technical ก็มาดู workflow กันก่อน สั้นๆ เราก็จะทำการ \n",
    "1. ดึงข้อมูลจาก Twitter ด้วย Tweepy\n",
    "2. เชื่อมต่อและเรียกข้อมูล Tweet streaming\n",
    "3. จัดลำดับ hashtags และทำหน้าจอแสดงผลแบบ real-time อย่างง่ายๆ\n",
    "\n",
    "**environment ที่ใช้**\n",
    "* python 3.5.2\n",
    "* jupyter 4.4.0\n",
    "* tweepy 3.5.0\n",
    "* pandas 0.21.0\n",
    "* matplotlib 2.1.0"
   ]
  },
  {
   "cell_type": "markdown",
   "metadata": {},
   "source": [
    "## Techical part 1 -- ดึงข้อมูลจาก Twitter ด้วย Tweepy\n",
    "\n",
    "สำหรับผู้ที่ไม่เคยมี account กับ Twitter ก่อนอื่นก็ต้องสร้าง Twitter account ก่อนนะครับ\n",
    "\n",
    "เมื่อมี Twitter account แล้ว ก็เข้าไปที่นี่ https://apps.twitter.com/ แล้วก็ login ตามกระบวนการปกติครับ จะเห็นหน้าต่างประมาณนี้\n",
    "\n",
    "<img src=\"twitterApp_01.png\" alt=\"twitterApp_firstPage\" style=\"width: 700px;\"/>\n",
    "\n",
    "จากนั้นก็เลือก **Create New App** เพื่อสร้างตัว Twitter app ที่เราจะใช้เป็นตัวกลางในการ Streaming ข้อมูล จาก Twitter -- เติมแค่ fields ที่จำเป็นต้องเติมก็พอ (ตรง Website ใส่เว็บตัวเองหรือ placeholder เช่น https://www.google.com ไปก็ได้)\n",
    "\n",
    "<img src=\"twitterApp_02.png\" alt=\"twitterApp_createApp\" style=\"width: 700px;\"/>\n",
    "\n",
    "เมื่อสร้าง app แล้ว ก็เข้าไปดูใน app นั้น จากนั้นเลือก **Keys and Access Tokens** โดยในหน้านี้จะมี 4 fields ที่เราจะนำค่าออกมาใช้ผูกกับ code ของเราเพื่อเรียกข้อมูล ประกอบด้วย Consumer Key (API Key), Consumer Secret (API Secret), Access Token, Access Token Secret\n",
    "\n",
    "<img src=\"twitterApp_03.png\" alt=\"twitterApp_keys\" style=\"width: 700px;\"/>\n",
    "\n",
    "#### หลังจากนั้นก็สร้างและบันทึก a Python script ตามไฟล์ที่แนบไว้นี้ครับ (ในตัวอย่างตั้งชื่อว่า streamingTwitterTags.py)\n",
    "\n",
    "ส่วนที่แต่ละคนต้องปรับเองคือ บรรทัดที่ 12-15 โดยเติม consumer_key, consumer_secret, access_token, และ access_secret ของตัวเองลงไปครับ (บรรทัดที่ 54 จะเปลี่ยนหรือไม่เปลี่ยนก็ตามสะดวกครับ, บรรทัดที่ 52 ก็ต้องเปลี่ยนหากไม่ต้องการให้ script ประมวลบน local host ครับ, บรรทัดที่ 45 ตั้งเป็น 'bnk48' ที่เราจะใช้เป็น keyword สำหรับคัดกรอง)"
   ]
  },
  {
   "cell_type": "code",
   "execution_count": null,
   "metadata": {},
   "outputs": [],
   "source": [
    "# create a file -- streamingTwitterTags.py\n",
    "\n",
    "# import modules\n",
    "import tweepy\n",
    "from tweepy import OAuthHandler, Stream\n",
    "from tweepy.streaming import StreamListener\n",
    "import socket\n",
    "import json\n",
    "\n",
    "\n",
    "# create credential variables\n",
    "consumer_key = 'your_consumer_key'        # put your consumer_key from Twitter API\n",
    "consumer_secret = 'your_consumer_secret'  # put your consumer_secret from Twitter API\n",
    "access_token = 'your_access_token'        # put your access_token from Twitter API\n",
    "access_secret = 'your_access_secret'      # put your access_secret from Twitter API\n",
    "\n",
    "# create a class that listens to tweets\n",
    "class TweetListener(StreamListener):\n",
    "    def __init__(self, csocket):\n",
    "        self.client_socket = csocket\n",
    "        \n",
    "    def on_data(self, data):\n",
    "        try:\n",
    "            msg = json.loads(data)\n",
    "            print(msg['text'].encode('utf-8'))\n",
    "            self.client_socket.send(msg['text'].encode('utf-8'))\n",
    "            return True\n",
    "        except BaseException as e:\n",
    "            print('Error', e)\n",
    "        return True\n",
    "    \n",
    "    def on_error(self, status):\n",
    "        print(status)\n",
    "        return True\n",
    "\n",
    "\n",
    "# create a function that operate on streamed data\n",
    "def sendData(c_socket):\n",
    "    auth = OAuthHandler(consumer_key, consumer_secret)\n",
    "    auth.set_access_token(access_token, access_secret)\n",
    "    \n",
    "    twitter_stream = Stream(auth, TweetListener(c_socket))\n",
    "    # set a filter to track tweets with a string in the filter set\n",
    "    twitter_stream.filter(track=['#BNK48'])\n",
    "    \n",
    "\n",
    "# execute if 'main'\n",
    "if __name__ == '__main__':\n",
    "    s = socket.socket()\n",
    "    # set the host to be a localhost\n",
    "    host = '127.0.0.1' \n",
    "    # set the connection port to be 5555\n",
    "    port = 5555\n",
    "    s.bind((host, port))\n",
    "    \n",
    "    print('listening on port:', port)\n",
    "    \n",
    "    s.listen()\n",
    "    c, addr = s.accept()\n",
    "    \n",
    "    sendData(c)"
   ]
  },
  {
   "cell_type": "markdown",
   "metadata": {},
   "source": [
    "ตอนนี้เราก็ได้ script ที่จะใช้ดึงข้อมูลจาก Twitter แล้วครับ ต่อไปก็เป็นการเตรียม PySpark code สำหรับทำ data streaming ครับ"
   ]
  },
  {
   "cell_type": "markdown",
   "metadata": {},
   "source": [
    "## Technical part 2 -- เชื่อมต่อและเรียกข้อมูล Tweet streaming\n",
    "\n",
    "ต่อไปเราก็ทำ code เพื่อเชื่อมต่อ streaming channel จาก script ก่อนหน้ากับตัว Jupyter Notebook ที่จะใช้จัดการข้อมูลครับ โดยใช้ networking interface ของ Python\n",
    "\n",
    "หน้าตาของ code ก็มีดังข้างล่าง โดยกรอกค่า \"host\" และ ค่า \"port\" ที่เราตั้งไว้ตามบรรทัดที่ 52 และ 54 ใน streamingTwitterTags.py"
   ]
  },
  {
   "cell_type": "code",
   "execution_count": 124,
   "metadata": {},
   "outputs": [],
   "source": [
    "import socket\n",
    "\n",
    "# connect to a streaming socket\n",
    "s = socket.socket()\n",
    "host = '127.0.0.1' # needs to be in quote\n",
    "port = 5555\n",
    "s.connect((host, port))"
   ]
  },
  {
   "cell_type": "markdown",
   "metadata": {},
   "source": [
    "ทีนี้เราก็พร้อมที่จะทดสอบระบบ โดยเริ่มจากสั่ง run script สำหรับ streaming ก่อน\n",
    "\n",
    "<img src=\"twitterStreaming_run.png\" alt=\"twitterStreaming_run\" style=\"width: 700px;\"/>\n",
    "\n",
    "จากนั้นก็ run code เชื่อมต่อที่เตรียมไว้ บน Jupyter Notebook เท่านี้ code ของเราก็พร้อมเริ่มดึง tweet stream มาจัดการต่อ \n",
    "\n",
    "การเรียก tweets ที่อยู่บน stream ที่เราเปิดไว้ ณ ขณะนั้นๆ ทำได้โดยการ run คำสั่งชุดต่อไปด้านล่างนี้\n",
    "\n",
    "**ปล.**\n",
    "ให้รัน cell แยกกัน โดย cell ส่วนเชื่อมต่อด้านบนนั้นกด run เพียงครั้งเดียว ถ้า run ซ้ำการเชื่อมต่อจะโดนยกเลิก ส่วน cell ที่ใช้ดึง tweets ด้านล่างนั้น เมื่อเชื่อมต่อแล้วสามารถ run ซ้ำได้เรื่อยๆ\n",
    "\n",
    "**ปล 2.** \n",
    "เลข 2048 คือ จำกัดขนาดของ byte size ที่เราจะเรียกมาแต่ละครั้ง ถ้าข้อมูลบน stream ของเรา ณ เวลานั้นๆ มีมากกว่าขนาดที่จำกัดไว้ ส่วนที่ไม่ถูกเรียกมาในครั้งนั้นๆ จะถูกเก็บไว้และถูกเรียกมาในครั้งต่อไป -- ถ้าไม่คิดมากใส่ 2048 ไว้ก็เกินพอสำหรับเรื่องที่เราจะทดสอบ"
   ]
  },
  {
   "cell_type": "code",
   "execution_count": 125,
   "metadata": {},
   "outputs": [
    {
     "data": {
      "text/plain": [
       "'RT @TM_tingmode: คุณนุ้ยยยย #NoeyBNK48 #BNK48 #สามแยกปากหวาน https://t.co/CTbLHHfaekRT @jorhorkor48: ทีมนี้ก็ไม่ธรรมดา~ \\U0001f92a #MobileBNK48 #NoeyBNK48 #PunBNK48 #BNK48 #สามแยกปากหวาน https://t.co/bJzZ4vwymCRT @BordinPeterGOD: ขอสารภาฟบาปเราคือคนที่คุยภาษาเดนมาร์กกับย้องในไลฟ์voovเอง\\nยามที่น้องเห็นว่ามีภาษาถิ่นตัวเองเขาดูดีใจมากพลอยทำให้เรามีคว…RT @i_wip: แก้ว: จริง ๆ พี่เป็นคนไม่กินเนื้อ..\\nตาหวาน: แต่เมื่อพี่ได้ลองปิ้งกินไป 1 ชิ้นเท่านั้น..\\nแก้ว: พี่ปิ้งไม่หยุดเลยค่ะ\\n#TarwaanBNK48…RT @jorhorkor48: ก็ยังคงสวยตลอดแหละจ่ะ~💖 #KaewBNK48 #BNK48 https://t.co/LCs9BjVA0uRT @honeyht_: จะได้เจอแล้ว~ 😊 #KaewBNK48 #TarwaanBNK48 #BNK48 https://t.co/Kxyt2UUon4RT @bulletin48: BREAKING: คริสติน ลาร์เซน (น้ำหอม) ประกาศจบการศึกษาจาก #BNK48 เพื่อไปศึกษาต่อที่ประเทศเดนมาร์ค โดยน้องจะเดินทางไปในวันที่ 1…RT @jorhorkor48: อีกหนึ่งความละมุน~💖 #TarwaanBNK48 #BNK48 https://t.co/0a2fJ4wN32RT @jorhorkor48: [ Fancam ] Shonichi by #KaewBNK48 &amp; #TarwaanBNK48 #BNK48 https://t.co/CWrkAhX5jERT @jorhorkor48: ปิ๊งงงง~💖 #KaewBNK48 #BNK48 #สามแยกปากหวาน #3แยกปากหวาน https://t.co/IrQsKC7bJERT @youwan48: #BNK48 #TarwaanBNK48 😊💕 https://t.co/AavsstOfUhRT @TM_tingm'"
      ]
     },
     "execution_count": 125,
     "metadata": {},
     "output_type": "execute_result"
    }
   ],
   "source": [
    "# get tweets\n",
    "tweets = s.recv(2048).decode(\"utf-8\", errors='ignore')\n",
    "tweets"
   ]
  },
  {
   "cell_type": "markdown",
   "metadata": {},
   "source": [
    "ทีนี้เราก็เห็นเรื่องที่เค้ากำลังคุยกันบน Twitter ได้ครับ\n",
    "\n",
    "เมื่อเรียก tweets ได้แล้ว เราก็กรองเฉพาะ hashtags ออกจากข้อความใน tweets ครับ"
   ]
  },
  {
   "cell_type": "code",
   "execution_count": 128,
   "metadata": {},
   "outputs": [
    {
     "data": {
      "text/plain": [
       "['#bnk48',\n",
       " '#mobilebnk48',\n",
       " '#bnk48',\n",
       " '#สามแยกปากหวาน',\n",
       " '#namneungbnk48',\n",
       " '#bnk48',\n",
       " '#bnk48rt',\n",
       " '#cutuball72',\n",
       " '#namneungbnk48',\n",
       " '#bnk48',\n",
       " '#kaewbnk48',\n",
       " '#bnk48',\n",
       " '#สามแยกปากหวาน',\n",
       " '#kaewbnk48',\n",
       " '#bnk48',\n",
       " '#สามแยกปากหวาน',\n",
       " '#3']"
      ]
     },
     "execution_count": 128,
     "metadata": {},
     "output_type": "execute_result"
    }
   ],
   "source": [
    "# get hashtags from tweets\n",
    "hashtags = [hashtag.lower() for hashtag in re.split('\\s+', tweets) if len(hashtag)>0 and hashtag[0]==\"#\"]\n",
    "hashtags"
   ]
  },
  {
   "cell_type": "markdown",
   "metadata": {},
   "source": [
    "## Technical part 3 -- จัดลำดับ hashtags และทำหน้าจอแสดงผลแบบ real-time อย่างง่ายๆ\n",
    "\n",
    "เมื่อเราดึงข้อมูล tweets/hashtags ได้แล้ว เราก็จะนำข้อมูลมาจัดลำดับครับ โดยทำง่ายๆ ก็คือ วน loop เก็บค่า แล้วทำ chart ออกมา โดย chart ของเราคอย update เรื่อยๆ ตามช่วงเวลาที่เรากำหนดไว้\n",
    "\n",
    "ตัว code ก็เป็นแบบนี้ครับ\n",
    "1. บันทึกค่า start_time, ตั้งค่า stream_period ที่เราจะทำการ stream, บันทึกค่า finish_time\n",
    "2. สร้าง blank Pandas DataFrame ไว้เก็บค่า hashtags ตอนวน while-loop\n",
    "3. while-loop ที่จะสิ้นสุดเมื่อครบระยะ stream_period\n",
    "    * ตั้งค่า wait time ของแต่ละรอบก่อนเริ่มดึงข้อมูล\n",
    "    * ดึง tweet stream และกรอง hashtags อย่างที่ทำในส่วน Technical part 2\n",
    "    * จัดเก็บข้อมูล hashtags ลง DataFrame ที่เตรียมไว้ และบันทึกการจัดลำดับ hashtags ลง DataFrame ใหม่\n",
    "    * บันทึกจำนวน '#bnk48' hashtag ไว้เป็นตัวอ้างอิง\n",
    "    * สร้าง bar chart ที่แสดงลำดับและจำนวนครั้งที่มีคนกล่าวถึงของ hashtags 10 ลำดับแรกที่เกี่ยวกับ '#bnk48'\n",
    "    * clear ส่วนแสดงผลของรอบก่อนหน้า, แสดงเวลาเริ่มต้นดึงข้อมูลและเวลาปัจจุบัน, แสดง bar chart การจัดลำดับที่ทำไว้"
   ]
  },
  {
   "cell_type": "code",
   "execution_count": 138,
   "metadata": {
    "collapsed": true
   },
   "outputs": [
    {
     "name": "stdout",
     "output_type": "stream",
     "text": [
      "start time: 2018-02-10 12:16:21\n",
      "current time: 2018-02-10 12:26:26\n"
     ]
    },
    {
     "data": {
      "image/png": "[encoded data removed]",
      "text/plain": [
       "<matplotlib.figure.Figure at 0x7f9e71336b38>"
      ]
     },
     "metadata": {},
     "output_type": "display_data"
    }
   ],
   "source": [
    "import time\n",
    "import re\n",
    "from datetime import datetime, timedelta\n",
    "import pandas as pd\n",
    "import matplotlib.pyplot as plt\n",
    "from matplotlib.ticker import MaxNLocator\n",
    "from IPython import display\n",
    "\n",
    "%matplotlib inline\n",
    "\n",
    "# record start time and set streaming period\n",
    "start_time = datetime.now()\n",
    "stream_period = 10  # in minutes\n",
    "finish_time = start_time + timedelta(minutes=stream_period)\n",
    "\n",
    "# create a blank Pandas DataFrame \n",
    "df = pd.DataFrame([], columns=['hashtags'])\n",
    "\n",
    "# iterative streaming and plotting\n",
    "while datetime.now() < finish_time:\n",
    "    \n",
    "    # set wait time between iteration\n",
    "    time.sleep(5)    \n",
    "    \n",
    "    # get tweets and hashtags\n",
    "    tweets = s.recv(2048).decode(\"utf-8\", errors='ignore')\n",
    "    hashtags = [hashtag.lower() for hashtag in re.split('\\s+', tweets) if len(hashtag)>0 and hashtag[0]==\"#\"]\n",
    "    \n",
    "    # store and count hashtags in Pandas DataFrame\n",
    "    temp_df = pd.DataFrame(hashtags, columns=['hashtag'])\n",
    "    df = pd.concat([df, temp_df])\n",
    "    results = df.groupby('hashtag')['hashtag'].count().sort_values(ascending=False).reset_index(name='count').head(11)\n",
    "    \n",
    "    # number of '#bnk48'\n",
    "    bnk48_count = results[results['hashtag']=='#bnk48']['count'].values\n",
    "    \n",
    "    # create bar chart ranking top ten hashtags related to '#bnk48'\n",
    "    fig, ax = plt.subplots(1,1,figsize=(12,6)) \n",
    "    results[results['hashtag']!='#bnk48'].plot(kind='bar', x='hashtag', y='count', legend=False, ax=ax)\n",
    "    ax.set_title(\"Top 10 hashtags related to #BNK48 (%d counts)\" % bnk48_count, fontsize=18)\n",
    "    ax.set_xlabel(\"Hashtag\", fontsize=18)\n",
    "    ax.set_ylabel(\"Count\", fontsize=18)\n",
    "    ax.set_xticklabels(ax.get_xticklabels(), {\"fontsize\":14}, rotation=30)\n",
    "    ax.yaxis.set_major_locator(MaxNLocator(integer=True)) # show only integer yticks\n",
    "    plt.yticks(fontsize=14)\n",
    "    \n",
    "    # clear previous output, print start time and current time, and plot the current chart \n",
    "    display.clear_output(wait=True)\n",
    "    print(\"start time:\", start_time.strftime('%Y-%m-%d %H:%M:%S'))\n",
    "    print(\"current time:\", datetime.now().strftime('%Y-%m-%d %H:%M:%S'))\n",
    "    plt.show()\n",
    "    "
   ]
  },
  {
   "cell_type": "markdown",
   "metadata": {},
   "source": [
    "## Ready. Set. Go!\n",
    "\n",
    "หลังจากเรามี code ทุกอย่างเรียบร้อยแล้วก็ทำการ run ทุกอย่างตามที่เขียนไว้ในส่วน **Technical part 2** และ **Technical part 3** ได้เลยครับ\n",
    "\n",
    "ก็จะได้ chart ออกมาประมาณนี้ โดยตัว chart จะ update ตัวเองเรื่อยๆ ตามที่ตั้งไว้\n",
    "\n",
    "<img src=\"chart_example.png\" alt=\"chart_example\" style=\"width: 700px;\"/>"
   ]
  },
  {
   "cell_type": "markdown",
   "metadata": {},
   "source": [
    "เมื่อเราทำการ streaming จนพอใจแล้วก็ปิดการ streaming ด้วยคำสั่งนี้ครับ"
   ]
  },
  {
   "cell_type": "code",
   "execution_count": 139,
   "metadata": {},
   "outputs": [],
   "source": [
    "# close the connection\n",
    "s.close()"
   ]
  },
  {
   "cell_type": "markdown",
   "metadata": {},
   "source": [
    "ปล. อย่าลืมไปปิดตัว terminal ที่รัน python script (streamingTwitterTags.py) เชื่อมต่อกับ Twitter API ด้วยนะครับ"
   ]
  },
  {
   "cell_type": "markdown",
   "metadata": {},
   "source": [
    "## สรุปผลการสำรวจความนิยมของเหล่าไอดอล BNK48 แบบ real-time ในคืนวัน Valentine\n",
    "\n",
    "ผู้เขียนได้ทำการรัน code ที่เราทำขึ้นในคืนวัน Valentine ช่วงเวลา 20.00-21.00 นะครับ\n",
    "\n",
    "เรามาดูกันว่าสาวๆ BNK48 คนไหนบ้างที่มีชาว Twitter พูดถึงกันมากที่สุดในช่วงหัวค่ำของวันแห่งความรัก"
   ]
  },
  {
   "cell_type": "markdown",
   "metadata": {},
   "source": [
    "![Animated ranking results](output.gif)"
   ]
  },
  {
   "cell_type": "markdown",
   "metadata": {},
   "source": [
    "จากไฟล์ภาพนะครับ เราก็จะเห็นว่าในตอนเริ่มต้นการ streaming \n",
    "\n",
    "บรรยาย บรรยาย บรรยาย บรรยาย บรรยาย บรรยาย บรรยาย บรรยาย บรรยาย บรรยาย บรรยาย บรรยาย บรรยาย บรรยาย บรรยาย บรรยาย บรรยาย บรรยาย บรรยาย บรรยาย บรรยาย บรรยาย บรรยาย บรรยาย บรรยาย บรรยาย บรรยาย บรรยาย บรรยาย บรรยาย บรรยาย บรรยาย บรรยาย บรรยาย บรรยาย บรรยาย บรรยาย บรรยาย บรรยาย บรรยาย บรรยาย บรรยาย บรรยาย บรรยาย บรรยาย บรรยาย บรรยาย บรรยาย บรรยาย บรรยาย บรรยาย บรรยาย บรรยาย บรรยาย บรรยาย บรรยาย บรรยาย บรรยาย บรรยาย บรรยาย บรรยาย บรรยาย บรรยาย บรรยาย บรรยาย บรรยาย บรรยาย บรรยาย บรรยาย บรรยาย บรรยาย บรรยาย บรรยาย บรรยาย บรรยาย บรรยาย บรรยาย บรรยาย บรรยาย บรรยาย\n"
   ]
  },
  {
   "cell_type": "markdown",
   "metadata": {},
   "source": [
    "## ส่งท้าย\n",
    "\n",
    "จบแล้วครับสำหรับการทำ code และตัวอย่างการสำรวจความนิยมของสาวๆ BNK48 โดยใช้ Twitter API + Python\n",
    "\n",
    "เป็นไงบ้างครับ โอชิใครขึ้นแท่นสมาชิกสุดฮอทของวงบ้าง โอชิใครหลุดลำดับไปก็ชวนเพื่อนๆ ไปช่วยกันทำคะแนนความนิยมเพิ่มได้โดยการไป flood Twitter กันนะครับ XD\n",
    "\n",
    "![otaku_power](otaku_power.jpg) \n",
    "image from https://holyonthenet.webnode.es/news/cafes-cosplay-/\n",
    "\n",
    "หวังว่าตัวอย่างสนุกๆ นี้จะพอเป็นประโยชน์กับผู้ที่สนใจจะทำ data manipulation หรือ data streaming ด้วย (Py)Spark บ้างนะครับ\n",
    "\n",
    "หากส่วนไหนผิดพลาดหรือข้อแนะนำเพิ่มเติมตรงไหนก็รบกวนช่วยแจ้งได้เลยนะครับ ขอบคุณครับผม"
   ]
  },
  {
   "cell_type": "code",
   "execution_count": null,
   "metadata": {},
   "outputs": [],
   "source": []
  }
 ],
 "metadata": {
  "kernelspec": {
   "display_name": "Python 3",
   "language": "python",
   "name": "python3"
  },
  "language_info": {
   "codemirror_mode": {
    "name": "ipython",
    "version": 3
   },
   "file_extension": ".py",
   "mimetype": "text/x-python",
   "name": "python",
   "nbconvert_exporter": "python",
   "pygments_lexer": "ipython3",
   "version": "3.5.2"
  }
 },
 "nbformat": 4,
 "nbformat_minor": 2
}
